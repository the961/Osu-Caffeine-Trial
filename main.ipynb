{
 "cells": [
  {
   "cell_type": "markdown",
   "id": "ec70f0cb-a705-4172-8c1d-b2531d3872af",
   "metadata": {},
   "source": [
    "# Analysis"
   ]
  },
  {
   "cell_type": "markdown",
   "id": "334562b5-9841-4363-8754-db3a86884acd",
   "metadata": {},
   "source": [
    "install packages:"
   ]
  },
  {
   "cell_type": "code",
   "execution_count": 1,
   "id": "33ee009c-4d75-487f-a4f7-84ad450e17a0",
   "metadata": {
    "scrolled": true
   },
   "outputs": [
    {
     "name": "stdout",
     "output_type": "stream",
     "text": [
      "Requirement already satisfied: pandas==2.2.1 in c:\\python312\\lib\\site-packages (2.2.1)\n",
      "Requirement already satisfied: numpy in c:\\python312\\lib\\site-packages (1.26.4)\n",
      "Collecting numpy\n",
      "  Using cached numpy-2.2.4-cp312-cp312-win_amd64.whl.metadata (60 kB)\n",
      "Requirement already satisfied: scikit-posthocs in c:\\python312\\lib\\site-packages (0.11.4)\n",
      "Requirement already satisfied: python-dateutil>=2.8.2 in c:\\python312\\lib\\site-packages (from pandas==2.2.1) (2.9.0.post0)\n",
      "Requirement already satisfied: pytz>=2020.1 in c:\\python312\\lib\\site-packages (from pandas==2.2.1) (2024.1)\n",
      "Requirement already satisfied: tzdata>=2022.7 in c:\\python312\\lib\\site-packages (from pandas==2.2.1) (2024.1)\n",
      "Requirement already satisfied: scipy>=1.9.0 in c:\\python312\\lib\\site-packages (from scikit-posthocs) (1.15.1)\n",
      "Requirement already satisfied: statsmodels in c:\\python312\\lib\\site-packages (from scikit-posthocs) (0.14.4)\n",
      "Requirement already satisfied: seaborn in c:\\python312\\lib\\site-packages (from scikit-posthocs) (0.13.2)\n",
      "Requirement already satisfied: matplotlib in c:\\python312\\lib\\site-packages (from scikit-posthocs) (3.10.0)\n",
      "Requirement already satisfied: six>=1.5 in c:\\python312\\lib\\site-packages (from python-dateutil>=2.8.2->pandas==2.2.1) (1.16.0)\n",
      "Requirement already satisfied: contourpy>=1.0.1 in c:\\python312\\lib\\site-packages (from matplotlib->scikit-posthocs) (1.3.1)\n",
      "Requirement already satisfied: cycler>=0.10 in c:\\python312\\lib\\site-packages (from matplotlib->scikit-posthocs) (0.12.1)\n",
      "Requirement already satisfied: fonttools>=4.22.0 in c:\\python312\\lib\\site-packages (from matplotlib->scikit-posthocs) (4.55.8)\n",
      "Requirement already satisfied: kiwisolver>=1.3.1 in c:\\python312\\lib\\site-packages (from matplotlib->scikit-posthocs) (1.4.8)\n",
      "Requirement already satisfied: packaging>=20.0 in c:\\python312\\lib\\site-packages (from matplotlib->scikit-posthocs) (24.1)\n",
      "Requirement already satisfied: pillow>=8 in c:\\python312\\lib\\site-packages (from matplotlib->scikit-posthocs) (11.1.0)\n",
      "Requirement already satisfied: pyparsing>=2.3.1 in c:\\python312\\lib\\site-packages (from matplotlib->scikit-posthocs) (3.2.1)\n",
      "Requirement already satisfied: patsy>=0.5.6 in c:\\python312\\lib\\site-packages (from statsmodels->scikit-posthocs) (1.0.1)\n"
     ]
    },
    {
     "name": "stderr",
     "output_type": "stream",
     "text": [
      "\n",
      "[notice] A new release of pip is available: 24.0 -> 25.0.1\n",
      "[notice] To update, run: python.exe -m pip install --upgrade pip\n"
     ]
    }
   ],
   "source": [
    "#%pip install --upgrade pip\n",
    "#%pip install numpy==1.26.4 pandas==2.2.1 scikit-posthocs --upgrade\n",
    "!pip install pandas==2.2.1 numpy scikit-posthocs --upgrade"
   ]
  },
  {
   "cell_type": "markdown",
   "id": "79725289-2ba8-4673-9faa-6ea52bf2ec5b",
   "metadata": {},
   "source": [
    "import packages:"
   ]
  },
  {
   "cell_type": "code",
   "execution_count": 2,
   "id": "d8b5e77e-cfef-423e-aff4-ef67f26f1cab",
   "metadata": {
    "scrolled": false
   },
   "outputs": [],
   "source": [
    "import pandas as pd\n",
    "import numpy as np\n",
    "import scipy.stats as stats\n",
    "import matplotlib.pyplot as plt\n",
    "import scikit_posthocs as sp"
   ]
  },
  {
   "cell_type": "markdown",
   "id": "8c3b62ef-5f93-44bc-95ff-5f312b7687d9",
   "metadata": {},
   "source": [
    "load data"
   ]
  },
  {
   "cell_type": "code",
   "execution_count": 3,
   "id": "dc702ccd-f9d6-40e9-afef-f56a078188dc",
   "metadata": {},
   "outputs": [
    {
     "name": "stdout",
     "output_type": "stream",
     "text": [
      "   Day      Date C+F or Placebo    Guess  \\\n",
      "0  1.0  02/12/25        Placebo  Placebo   \n",
      "1  2.0  02/13/25            C+F      C+F   \n",
      "3  3.0  02/15/25            C+F  Placebo   \n",
      "4  4.0  02/16/25            C+F      C+F   \n",
      "5  5.0  02/17/25        Placebo  Placebo   \n",
      "\n",
      "  Kurui Zake Setsugekka (aim) (https://osu.ppy.sh/beatmapsets/481042#osu/1026787)  \\\n",
      "0                                       [30, 29, 45]                                \n",
      "1                                       [38, 30, 34]                                \n",
      "3                                       [29, 47, 42]                                \n",
      "4                                       [45, 56, 37]                                \n",
      "5                                       [35, 41, 42]                                \n",
      "\n",
      "  Disconnected (aim) (https://osu.ppy.sh/beatmapsets/169874#osu/465548)  \\\n",
      "0                                      [84, 98, 119]                      \n",
      "1                                       [90, 84, 99]                      \n",
      "3                                    [114, 127, 127]                      \n",
      "4                                    [130, 110, 129]                      \n",
      "5                                    [139, 110, 119]                      \n",
      "\n",
      "  Sakura no Uta (Sped Up Ver.) (aim) (https://osu.ppy.sh/beatmapsets/811908#osu/2281045)  \\\n",
      "0                                      [95, 100, 95]                                       \n",
      "1                                       [90, 77, 72]                                       \n",
      "3                                      [81, 121, 79]                                       \n",
      "4                                       [69, 74, 75]                                       \n",
      "5                                       [74, 82, 93]                                       \n",
      "\n",
      "  CHOIR JAIL (stream) (https://osu.ppy.sh/beatmapsets/172688#osu/435350)  \\\n",
      "0                     (1, 97.31),(0,97.66),(0,98.29)                       \n",
      "1                    (1,98.11),(16,97.26),(10,96.63)                       \n",
      "3             (0,98.54,146.58),(11,97.13),(12,97.91)                       \n",
      "4  (13,96.66,152.66),(11,97.47,147.80),(9,97.86,1...                       \n",
      "5  (6,97.96,136.98),(9,97.98,147.04),(1,98.51,137...                       \n",
      "\n",
      "  os-Uchuujin(Asterisk Makina Remix) (stream) (https://osu.ppy.sh/beatmapsets/325301#osu/722596)  \\\n",
      "0                   (20,94.81),(12,96.41),(22,95.44)                                               \n",
      "1                  (25, 94.83),(24,95.42),(25,95.51)                                               \n",
      "3             (15,96.15,138.76),(17,96.04)(21,96.27)                                               \n",
      "4  (14,96.62,134.61),(5,97.13,143.77),(11,97.66,1...                                               \n",
      "5  (34,94.49,163.22),(18,96.07,140.78),(13,95.75,...                                               \n",
      "\n",
      "  The Deceit / The Violation (stream) (https://osu.ppy.sh/beatmapsets/367631#osu/958098)  \\\n",
      "0                              (21,92.41),(15,91.89)                                       \n",
      "1                              (23,92.91),(16,92.55)                                       \n",
      "3                                  (30,92.47,180.39)                                       \n",
      "4                (18,92.99,166.45),(13,93.94,165.99)                                       \n",
      "5                (14,92.85,171.83),(19,93.23,168.47)                                       \n",
      "\n",
      "  Harebare Fanfare (speed) (https://osu.ppy.sh/beatmapsets/497942#osu/1059894)  \\\n",
      "0                                        [21, 11, 8]                             \n",
      "1                                         [15, 8, 8]                             \n",
      "3                                        [19, 15, 7]                             \n",
      "4                                        [12, 13, 6]                             \n",
      "5                                        [17, 10, 7]                             \n",
      "\n",
      "  Flicker (speed) (https://osu.ppy.sh/beatmapsets/284931#osu/1593298)  \\\n",
      "0                                       [46, 27, 28]                    \n",
      "1                                       [31, 25, 12]                    \n",
      "3                                       [49, 41, 30]                    \n",
      "4                                       [39, 33, 35]                    \n",
      "5                                       [38, 37, 39]                    \n",
      "\n",
      "  7 -seven- -TV SIZE - (speed) (https://osu.ppy.sh/beatmapsets/282345#osu/638493)  \\\n",
      "0                                       [33, 24, 23]                                \n",
      "1                                       [24, 28, 28]                                \n",
      "3                                       [35, 28, 20]                                \n",
      "4                                       [44, 31, 36]                                \n",
      "5                                       [35, 35, 28]                                \n",
      "\n",
      "   Ice Angel (marathon) (https://osu.ppy.sh/beatmapsets/297933#osu/668662)  \\\n",
      "0                                                 10                         \n",
      "1                                                  5                         \n",
      "3                                                  8                         \n",
      "4                                                  2                         \n",
      "5                                                  5                         \n",
      "\n",
      "   SANTA SAN (marathon) (https://osu.ppy.sh/beatmapsets/378183#osu/827803)  \\\n",
      "0                                                  3                         \n",
      "1                                                  3                         \n",
      "3                                                  1                         \n",
      "4                                                  3                         \n",
      "5                                                  4                         \n",
      "\n",
      "   Songs Compilation (marathon) (https://osu.ppy.sh/beatmapsets/765497#osu/1849580)  \n",
      "0                                                 13                                 \n",
      "1                                                 13                                 \n",
      "3                                                 14                                 \n",
      "4                                                 16                                 \n",
      "5                                                 16                                 \n"
     ]
    }
   ],
   "source": [
    "# load data\n",
    "df = pd.read_csv(\"C+F Test Data - Data.csv\")\n",
    "\n",
    "# clean up data:\n",
    "\n",
    "# Drop the \"Notes\" column\n",
    "df_cleaned = df.drop(columns=[\"Notes\"])\n",
    "\n",
    "# Remove rows with NaN values\n",
    "df_cleaned = df_cleaned.dropna()\n",
    "\n",
    "# Identify the columns with \"(aim)\" in their names\n",
    "aim_columns = [col for col in df_cleaned.columns if \"(aim)\" in col]\n",
    "\n",
    "# Identify the columns with \"(aim)\" in their names\n",
    "stream_columns = [col for col in df_cleaned.columns if \"(stream)\" in col]\n",
    "\n",
    "# Identify the columns with \"(speed)\" in their names\n",
    "speed_columns = [col for col in df_cleaned.columns if \"(speed)\" in col]\n",
    "\n",
    "# Identify the columns with \"(marathon)\" in their names\n",
    "marathon_columns = [col for col in df_cleaned.columns if \"(marathon)\" in col]\n",
    "\n",
    "# Convert the aim columns from string to numerical lists\n",
    "for col in aim_columns:\n",
    "    df_cleaned[col] = df_cleaned[col].apply(lambda x: list(map(int, x.split(','))))\n",
    "\n",
    "for col in speed_columns:\n",
    "    df_cleaned[col] = df_cleaned[col].apply(lambda x: list(map(int, x.split(','))))\n",
    "\n",
    "for col in marathon_columns:\n",
    "    df_cleaned[col] = df_cleaned[col].apply(lambda x: int(x))\n",
    "\n",
    "stream_metrics = [\"Miss Count\",\"Accuracy\",\"Unstable Rate\"]\n",
    "\n",
    "print(df_cleaned.head())"
   ]
  },
  {
   "cell_type": "markdown",
   "id": "697f1308-16eb-45ad-9da2-7fc196dd2933",
   "metadata": {},
   "source": [
    "correct for day 13 where i only did the stream maps twice instead of three times"
   ]
  },
  {
   "cell_type": "code",
   "execution_count": 4,
   "id": "aa1a09a9-6a75-45c7-bc48-c05a82219069",
   "metadata": {},
   "outputs": [
    {
     "name": "stdout",
     "output_type": "stream",
     "text": [
      "CHOIR JAIL (stream) (https://osu.ppy.sh/beatmapsets/172688#osu/435350)                              (6,97.15,145.40),(0,99.05,134.89)\n",
      "os-Uchuujin(Asterisk Makina Remix) (stream) (https://osu.ppy.sh/beatmapsets/325301#osu/722596)    (32,95.94,129.25),(35,95.99,125.42)\n",
      "The Deceit / The Violation (stream) (https://osu.ppy.sh/beatmapsets/367631#osu/958098)             (9,93.48,152.00),(19,94.33,146.04)\n",
      "Name: 15, dtype: object\n",
      "CHOIR JAIL (stream) (https://osu.ppy.sh/beatmapsets/172688#osu/435350)                            (6,97.15,145.40),(0,99.05,134.89),(3.0, 98.1, ...\n",
      "os-Uchuujin(Asterisk Makina Remix) (stream) (https://osu.ppy.sh/beatmapsets/325301#osu/722596)    (32,95.94,129.25),(35,95.99,125.42),(33.5, 95....\n",
      "The Deceit / The Violation (stream) (https://osu.ppy.sh/beatmapsets/367631#osu/958098)                           (9,93.48,152.00),(19,94.33,146.04)\n",
      "Name: 15, dtype: object\n"
     ]
    }
   ],
   "source": [
    "print(df_cleaned.loc[15,stream_columns])\n",
    "# fucked\n",
    "for i in range(2):\n",
    "    df_cleaned.loc[15,stream_columns[i]] = df_cleaned.loc[15,stream_columns[i]] + \",\" + str(list(np.mean(eval(df_cleaned.loc[15,stream_columns[i]]),axis=0).round(2).tolist())).replace(\"[\",\"(\").replace(\"]\",\")\")\n",
    "print(df_cleaned.loc[15,stream_columns])\n",
    "#df_cleaned[stream_columns].loc[15].iloc[0] = np.mean(eval(df_cleaned[stream_columns].loc[15].iloc[0]),axis=0)\n"
   ]
  },
  {
   "cell_type": "markdown",
   "id": "65cad6f1-1ed7-40cd-82a6-c07584e0c9ad",
   "metadata": {},
   "source": [
    "# Plot the Data"
   ]
  },
  {
   "cell_type": "code",
   "execution_count": 5,
   "id": "8d8251bb-a584-491d-a347-734b8c2248dd",
   "metadata": {},
   "outputs": [
    {
     "ename": "ValueError",
     "evalue": "Multi-dimensional indexing (e.g. `obj[:, None]`) is no longer supported. Convert to a numpy array before indexing instead.",
     "output_type": "error",
     "traceback": [
      "\u001b[1;31m---------------------------------------------------------------------------\u001b[0m",
      "\u001b[1;31mValueError\u001b[0m                                Traceback (most recent call last)",
      "Input \u001b[1;32mIn [5]\u001b[0m, in \u001b[0;36m<cell line: 67>\u001b[1;34m()\u001b[0m\n\u001b[0;32m     67\u001b[0m \u001b[38;5;28;01mfor\u001b[39;00m col \u001b[38;5;129;01min\u001b[39;00m aim_columns:\n\u001b[0;32m     68\u001b[0m     \u001b[38;5;66;03m#aim_scores = list(zip(*[sorted(sublist) for sublist in df_cleaned[col]]))\u001b[39;00m\n\u001b[0;32m     69\u001b[0m     aim_scores \u001b[38;5;241m=\u001b[39m df_cleaned[col]\n\u001b[1;32m---> 70\u001b[0m     \u001b[43mplot\u001b[49m\u001b[43m(\u001b[49m\u001b[38;5;124;43m\"\u001b[39;49m\u001b[38;5;124;43m (\u001b[39;49m\u001b[38;5;124;43m\"\u001b[39;49m\u001b[38;5;241;43m.\u001b[39;49m\u001b[43mjoin\u001b[49m\u001b[43m(\u001b[49m\u001b[43mcol\u001b[49m\u001b[38;5;241;43m.\u001b[39;49m\u001b[43msplit\u001b[49m\u001b[43m(\u001b[49m\u001b[38;5;124;43m\"\u001b[39;49m\u001b[38;5;124;43m (\u001b[39;49m\u001b[38;5;124;43m\"\u001b[39;49m\u001b[43m)\u001b[49m\u001b[43m[\u001b[49m\u001b[38;5;241;43m0\u001b[39;49m\u001b[43m:\u001b[49m\u001b[38;5;241;43m-\u001b[39;49m\u001b[38;5;241;43m1\u001b[39;49m\u001b[43m]\u001b[49m\u001b[43m)\u001b[49m\u001b[38;5;241;43m+\u001b[39;49m\u001b[38;5;124;43m\"\u001b[39;49m\u001b[38;5;124;43m Miss Count\u001b[39;49m\u001b[38;5;124;43m\"\u001b[39;49m\u001b[43m,\u001b[49m\u001b[43m \u001b[49m\u001b[43mdf_cleaned\u001b[49m\u001b[43m[\u001b[49m\u001b[38;5;124;43m'\u001b[39;49m\u001b[38;5;124;43mDate\u001b[39;49m\u001b[38;5;124;43m'\u001b[39;49m\u001b[43m]\u001b[49m\u001b[43m,\u001b[49m\u001b[43m \u001b[49m\u001b[43maim_scores\u001b[49m\u001b[43m)\u001b[49m\n\u001b[0;32m     72\u001b[0m \u001b[38;5;66;03m# stream\u001b[39;00m\n\u001b[0;32m     73\u001b[0m d \u001b[38;5;241m=\u001b[39m df_cleaned\u001b[38;5;241m.\u001b[39mdrop([\u001b[38;5;241m0\u001b[39m,\u001b[38;5;241m1\u001b[39m,\u001b[38;5;241m3\u001b[39m])\n",
      "Input \u001b[1;32mIn [5]\u001b[0m, in \u001b[0;36mplot\u001b[1;34m(title, dates, scores, metric, df_cleaned)\u001b[0m\n\u001b[0;32m     28\u001b[0m plt\u001b[38;5;241m.\u001b[39mfigure(figsize\u001b[38;5;241m=\u001b[39m(\u001b[38;5;241m10\u001b[39m, \u001b[38;5;241m5\u001b[39m))\n\u001b[0;32m     30\u001b[0m \u001b[38;5;66;03m# Individual lines\u001b[39;00m\n\u001b[1;32m---> 31\u001b[0m \u001b[43mplt\u001b[49m\u001b[38;5;241;43m.\u001b[39;49m\u001b[43mplot\u001b[49m\u001b[43m(\u001b[49m\u001b[43mdates\u001b[49m\u001b[43m,\u001b[49m\u001b[43m \u001b[49m\u001b[43mworst_vals\u001b[49m\u001b[43m,\u001b[49m\u001b[43m \u001b[49m\u001b[43mcolor\u001b[49m\u001b[38;5;241;43m=\u001b[39;49m\u001b[38;5;124;43m'\u001b[39;49m\u001b[38;5;124;43mgray\u001b[39;49m\u001b[38;5;124;43m'\u001b[39;49m\u001b[43m,\u001b[49m\u001b[43m \u001b[49m\u001b[43mlinestyle\u001b[49m\u001b[38;5;241;43m=\u001b[39;49m\u001b[38;5;124;43m'\u001b[39;49m\u001b[38;5;124;43m-\u001b[39;49m\u001b[38;5;124;43m'\u001b[39;49m\u001b[43m,\u001b[49m\u001b[43m \u001b[49m\u001b[43malpha\u001b[49m\u001b[38;5;241;43m=\u001b[39;49m\u001b[38;5;241;43m0.4\u001b[39;49m\u001b[43m)\u001b[49m\n\u001b[0;32m     32\u001b[0m plt\u001b[38;5;241m.\u001b[39mplot(dates, mid_vals, color\u001b[38;5;241m=\u001b[39m\u001b[38;5;124m'\u001b[39m\u001b[38;5;124mgray\u001b[39m\u001b[38;5;124m'\u001b[39m, linestyle\u001b[38;5;241m=\u001b[39m\u001b[38;5;124m'\u001b[39m\u001b[38;5;124m--\u001b[39m\u001b[38;5;124m'\u001b[39m, alpha\u001b[38;5;241m=\u001b[39m\u001b[38;5;241m0.4\u001b[39m)\n\u001b[0;32m     33\u001b[0m plt\u001b[38;5;241m.\u001b[39mplot(dates, best_vals, color\u001b[38;5;241m=\u001b[39m\u001b[38;5;124m'\u001b[39m\u001b[38;5;124mgray\u001b[39m\u001b[38;5;124m'\u001b[39m, linestyle\u001b[38;5;241m=\u001b[39m\u001b[38;5;124m'\u001b[39m\u001b[38;5;124m:\u001b[39m\u001b[38;5;124m'\u001b[39m, alpha\u001b[38;5;241m=\u001b[39m\u001b[38;5;241m0.4\u001b[39m)\n",
      "File \u001b[1;32m~\\AppData\\Local\\Programs\\Python\\Python310\\lib\\site-packages\\matplotlib\\pyplot.py:2757\u001b[0m, in \u001b[0;36mplot\u001b[1;34m(scalex, scaley, data, *args, **kwargs)\u001b[0m\n\u001b[0;32m   2755\u001b[0m \u001b[38;5;129m@_copy_docstring_and_deprecators\u001b[39m(Axes\u001b[38;5;241m.\u001b[39mplot)\n\u001b[0;32m   2756\u001b[0m \u001b[38;5;28;01mdef\u001b[39;00m \u001b[38;5;21mplot\u001b[39m(\u001b[38;5;241m*\u001b[39margs, scalex\u001b[38;5;241m=\u001b[39m\u001b[38;5;28;01mTrue\u001b[39;00m, scaley\u001b[38;5;241m=\u001b[39m\u001b[38;5;28;01mTrue\u001b[39;00m, data\u001b[38;5;241m=\u001b[39m\u001b[38;5;28;01mNone\u001b[39;00m, \u001b[38;5;241m*\u001b[39m\u001b[38;5;241m*\u001b[39mkwargs):\n\u001b[1;32m-> 2757\u001b[0m     \u001b[38;5;28;01mreturn\u001b[39;00m gca()\u001b[38;5;241m.\u001b[39mplot(\n\u001b[0;32m   2758\u001b[0m         \u001b[38;5;241m*\u001b[39margs, scalex\u001b[38;5;241m=\u001b[39mscalex, scaley\u001b[38;5;241m=\u001b[39mscaley,\n\u001b[0;32m   2759\u001b[0m         \u001b[38;5;241m*\u001b[39m\u001b[38;5;241m*\u001b[39m({\u001b[38;5;124m\"\u001b[39m\u001b[38;5;124mdata\u001b[39m\u001b[38;5;124m\"\u001b[39m: data} \u001b[38;5;28;01mif\u001b[39;00m data \u001b[38;5;129;01mis\u001b[39;00m \u001b[38;5;129;01mnot\u001b[39;00m \u001b[38;5;28;01mNone\u001b[39;00m \u001b[38;5;28;01melse\u001b[39;00m {}), \u001b[38;5;241m*\u001b[39m\u001b[38;5;241m*\u001b[39mkwargs)\n",
      "File \u001b[1;32m~\\AppData\\Local\\Programs\\Python\\Python310\\lib\\site-packages\\matplotlib\\axes\\_axes.py:1632\u001b[0m, in \u001b[0;36mAxes.plot\u001b[1;34m(self, scalex, scaley, data, *args, **kwargs)\u001b[0m\n\u001b[0;32m   1390\u001b[0m \u001b[38;5;250m\u001b[39m\u001b[38;5;124;03m\"\"\"\u001b[39;00m\n\u001b[0;32m   1391\u001b[0m \u001b[38;5;124;03mPlot y versus x as lines and/or markers.\u001b[39;00m\n\u001b[0;32m   1392\u001b[0m \n\u001b[1;32m   (...)\u001b[0m\n\u001b[0;32m   1629\u001b[0m \u001b[38;5;124;03m(``'green'``) or hex strings (``'#008000'``).\u001b[39;00m\n\u001b[0;32m   1630\u001b[0m \u001b[38;5;124;03m\"\"\"\u001b[39;00m\n\u001b[0;32m   1631\u001b[0m kwargs \u001b[38;5;241m=\u001b[39m cbook\u001b[38;5;241m.\u001b[39mnormalize_kwargs(kwargs, mlines\u001b[38;5;241m.\u001b[39mLine2D)\n\u001b[1;32m-> 1632\u001b[0m lines \u001b[38;5;241m=\u001b[39m [\u001b[38;5;241m*\u001b[39m\u001b[38;5;28mself\u001b[39m\u001b[38;5;241m.\u001b[39m_get_lines(\u001b[38;5;241m*\u001b[39margs, data\u001b[38;5;241m=\u001b[39mdata, \u001b[38;5;241m*\u001b[39m\u001b[38;5;241m*\u001b[39mkwargs)]\n\u001b[0;32m   1633\u001b[0m \u001b[38;5;28;01mfor\u001b[39;00m line \u001b[38;5;129;01min\u001b[39;00m lines:\n\u001b[0;32m   1634\u001b[0m     \u001b[38;5;28mself\u001b[39m\u001b[38;5;241m.\u001b[39madd_line(line)\n",
      "File \u001b[1;32m~\\AppData\\Local\\Programs\\Python\\Python310\\lib\\site-packages\\matplotlib\\axes\\_base.py:312\u001b[0m, in \u001b[0;36m_process_plot_var_args.__call__\u001b[1;34m(self, data, *args, **kwargs)\u001b[0m\n\u001b[0;32m    310\u001b[0m     this \u001b[38;5;241m+\u001b[39m\u001b[38;5;241m=\u001b[39m args[\u001b[38;5;241m0\u001b[39m],\n\u001b[0;32m    311\u001b[0m     args \u001b[38;5;241m=\u001b[39m args[\u001b[38;5;241m1\u001b[39m:]\n\u001b[1;32m--> 312\u001b[0m \u001b[38;5;28;01myield from\u001b[39;00m \u001b[38;5;28;43mself\u001b[39;49m\u001b[38;5;241;43m.\u001b[39;49m\u001b[43m_plot_args\u001b[49m\u001b[43m(\u001b[49m\u001b[43mthis\u001b[49m\u001b[43m,\u001b[49m\u001b[43m \u001b[49m\u001b[43mkwargs\u001b[49m\u001b[43m)\u001b[49m\n",
      "File \u001b[1;32m~\\AppData\\Local\\Programs\\Python\\Python310\\lib\\site-packages\\matplotlib\\axes\\_base.py:487\u001b[0m, in \u001b[0;36m_process_plot_var_args._plot_args\u001b[1;34m(self, tup, kwargs, return_kwargs)\u001b[0m\n\u001b[0;32m    484\u001b[0m         kw[prop_name] \u001b[38;5;241m=\u001b[39m val\n\u001b[0;32m    486\u001b[0m \u001b[38;5;28;01mif\u001b[39;00m \u001b[38;5;28mlen\u001b[39m(xy) \u001b[38;5;241m==\u001b[39m \u001b[38;5;241m2\u001b[39m:\n\u001b[1;32m--> 487\u001b[0m     x \u001b[38;5;241m=\u001b[39m \u001b[43m_check_1d\u001b[49m\u001b[43m(\u001b[49m\u001b[43mxy\u001b[49m\u001b[43m[\u001b[49m\u001b[38;5;241;43m0\u001b[39;49m\u001b[43m]\u001b[49m\u001b[43m)\u001b[49m\n\u001b[0;32m    488\u001b[0m     y \u001b[38;5;241m=\u001b[39m _check_1d(xy[\u001b[38;5;241m1\u001b[39m])\n\u001b[0;32m    489\u001b[0m \u001b[38;5;28;01melse\u001b[39;00m:\n",
      "File \u001b[1;32m~\\AppData\\Local\\Programs\\Python\\Python310\\lib\\site-packages\\matplotlib\\cbook\\__init__.py:1327\u001b[0m, in \u001b[0;36m_check_1d\u001b[1;34m(x)\u001b[0m\n\u001b[0;32m   1321\u001b[0m \u001b[38;5;28;01mwith\u001b[39;00m warnings\u001b[38;5;241m.\u001b[39mcatch_warnings(record\u001b[38;5;241m=\u001b[39m\u001b[38;5;28;01mTrue\u001b[39;00m) \u001b[38;5;28;01mas\u001b[39;00m w:\n\u001b[0;32m   1322\u001b[0m     warnings\u001b[38;5;241m.\u001b[39mfilterwarnings(\n\u001b[0;32m   1323\u001b[0m         \u001b[38;5;124m\"\u001b[39m\u001b[38;5;124malways\u001b[39m\u001b[38;5;124m\"\u001b[39m,\n\u001b[0;32m   1324\u001b[0m         category\u001b[38;5;241m=\u001b[39m\u001b[38;5;167;01mWarning\u001b[39;00m,\n\u001b[0;32m   1325\u001b[0m         message\u001b[38;5;241m=\u001b[39m\u001b[38;5;124m'\u001b[39m\u001b[38;5;124mSupport for multi-dimensional indexing\u001b[39m\u001b[38;5;124m'\u001b[39m)\n\u001b[1;32m-> 1327\u001b[0m     ndim \u001b[38;5;241m=\u001b[39m \u001b[43mx\u001b[49m\u001b[43m[\u001b[49m\u001b[43m:\u001b[49m\u001b[43m,\u001b[49m\u001b[43m \u001b[49m\u001b[38;5;28;43;01mNone\u001b[39;49;00m\u001b[43m]\u001b[49m\u001b[38;5;241m.\u001b[39mndim\n\u001b[0;32m   1328\u001b[0m     \u001b[38;5;66;03m# we have definitely hit a pandas index or series object\u001b[39;00m\n\u001b[0;32m   1329\u001b[0m     \u001b[38;5;66;03m# cast to a numpy array.\u001b[39;00m\n\u001b[0;32m   1330\u001b[0m     \u001b[38;5;28;01mif\u001b[39;00m \u001b[38;5;28mlen\u001b[39m(w) \u001b[38;5;241m>\u001b[39m \u001b[38;5;241m0\u001b[39m:\n",
      "File \u001b[1;32m~\\AppData\\Local\\Programs\\Python\\Python310\\lib\\site-packages\\pandas\\core\\series.py:1144\u001b[0m, in \u001b[0;36mSeries.__getitem__\u001b[1;34m(self, key)\u001b[0m\n\u001b[0;32m   1141\u001b[0m     key \u001b[38;5;241m=\u001b[39m np\u001b[38;5;241m.\u001b[39masarray(key, dtype\u001b[38;5;241m=\u001b[39m\u001b[38;5;28mbool\u001b[39m)\n\u001b[0;32m   1142\u001b[0m     \u001b[38;5;28;01mreturn\u001b[39;00m \u001b[38;5;28mself\u001b[39m\u001b[38;5;241m.\u001b[39m_get_rows_with_mask(key)\n\u001b[1;32m-> 1144\u001b[0m \u001b[38;5;28;01mreturn\u001b[39;00m \u001b[38;5;28;43mself\u001b[39;49m\u001b[38;5;241;43m.\u001b[39;49m\u001b[43m_get_with\u001b[49m\u001b[43m(\u001b[49m\u001b[43mkey\u001b[49m\u001b[43m)\u001b[49m\n",
      "File \u001b[1;32m~\\AppData\\Local\\Programs\\Python\\Python310\\lib\\site-packages\\pandas\\core\\series.py:1154\u001b[0m, in \u001b[0;36mSeries._get_with\u001b[1;34m(self, key)\u001b[0m\n\u001b[0;32m   1149\u001b[0m     \u001b[38;5;28;01mraise\u001b[39;00m \u001b[38;5;167;01mTypeError\u001b[39;00m(\n\u001b[0;32m   1150\u001b[0m         \u001b[38;5;124m\"\u001b[39m\u001b[38;5;124mIndexing a Series with DataFrame is not \u001b[39m\u001b[38;5;124m\"\u001b[39m\n\u001b[0;32m   1151\u001b[0m         \u001b[38;5;124m\"\u001b[39m\u001b[38;5;124msupported, use the appropriate DataFrame column\u001b[39m\u001b[38;5;124m\"\u001b[39m\n\u001b[0;32m   1152\u001b[0m     )\n\u001b[0;32m   1153\u001b[0m \u001b[38;5;28;01melif\u001b[39;00m \u001b[38;5;28misinstance\u001b[39m(key, \u001b[38;5;28mtuple\u001b[39m):\n\u001b[1;32m-> 1154\u001b[0m     \u001b[38;5;28;01mreturn\u001b[39;00m \u001b[38;5;28;43mself\u001b[39;49m\u001b[38;5;241;43m.\u001b[39;49m\u001b[43m_get_values_tuple\u001b[49m\u001b[43m(\u001b[49m\u001b[43mkey\u001b[49m\u001b[43m)\u001b[49m\n\u001b[0;32m   1156\u001b[0m \u001b[38;5;28;01melif\u001b[39;00m \u001b[38;5;129;01mnot\u001b[39;00m is_list_like(key):\n\u001b[0;32m   1157\u001b[0m     \u001b[38;5;66;03m# e.g. scalars that aren't recognized by lib.is_scalar, GH#32684\u001b[39;00m\n\u001b[0;32m   1158\u001b[0m     \u001b[38;5;28;01mreturn\u001b[39;00m \u001b[38;5;28mself\u001b[39m\u001b[38;5;241m.\u001b[39mloc[key]\n",
      "File \u001b[1;32m~\\AppData\\Local\\Programs\\Python\\Python310\\lib\\site-packages\\pandas\\core\\series.py:1194\u001b[0m, in \u001b[0;36mSeries._get_values_tuple\u001b[1;34m(self, key)\u001b[0m\n\u001b[0;32m   1189\u001b[0m \u001b[38;5;28;01mif\u001b[39;00m com\u001b[38;5;241m.\u001b[39many_none(\u001b[38;5;241m*\u001b[39mkey):\n\u001b[0;32m   1190\u001b[0m     \u001b[38;5;66;03m# mpl compat if we look up e.g. ser[:, np.newaxis];\u001b[39;00m\n\u001b[0;32m   1191\u001b[0m     \u001b[38;5;66;03m#  see tests.series.timeseries.test_mpl_compat_hack\u001b[39;00m\n\u001b[0;32m   1192\u001b[0m     \u001b[38;5;66;03m# the asarray is needed to avoid returning a 2D DatetimeArray\u001b[39;00m\n\u001b[0;32m   1193\u001b[0m     result \u001b[38;5;241m=\u001b[39m np\u001b[38;5;241m.\u001b[39masarray(\u001b[38;5;28mself\u001b[39m\u001b[38;5;241m.\u001b[39m_values[key])\n\u001b[1;32m-> 1194\u001b[0m     \u001b[43mdisallow_ndim_indexing\u001b[49m\u001b[43m(\u001b[49m\u001b[43mresult\u001b[49m\u001b[43m)\u001b[49m\n\u001b[0;32m   1195\u001b[0m     \u001b[38;5;28;01mreturn\u001b[39;00m result\n\u001b[0;32m   1197\u001b[0m \u001b[38;5;28;01mif\u001b[39;00m \u001b[38;5;129;01mnot\u001b[39;00m \u001b[38;5;28misinstance\u001b[39m(\u001b[38;5;28mself\u001b[39m\u001b[38;5;241m.\u001b[39mindex, MultiIndex):\n",
      "File \u001b[1;32m~\\AppData\\Local\\Programs\\Python\\Python310\\lib\\site-packages\\pandas\\core\\indexers\\utils.py:341\u001b[0m, in \u001b[0;36mdisallow_ndim_indexing\u001b[1;34m(result)\u001b[0m\n\u001b[0;32m    333\u001b[0m \u001b[38;5;250m\u001b[39m\u001b[38;5;124;03m\"\"\"\u001b[39;00m\n\u001b[0;32m    334\u001b[0m \u001b[38;5;124;03mHelper function to disallow multi-dimensional indexing on 1D Series/Index.\u001b[39;00m\n\u001b[0;32m    335\u001b[0m \n\u001b[1;32m   (...)\u001b[0m\n\u001b[0;32m    338\u001b[0m \u001b[38;5;124;03min GH#30588.\u001b[39;00m\n\u001b[0;32m    339\u001b[0m \u001b[38;5;124;03m\"\"\"\u001b[39;00m\n\u001b[0;32m    340\u001b[0m \u001b[38;5;28;01mif\u001b[39;00m np\u001b[38;5;241m.\u001b[39mndim(result) \u001b[38;5;241m>\u001b[39m \u001b[38;5;241m1\u001b[39m:\n\u001b[1;32m--> 341\u001b[0m     \u001b[38;5;28;01mraise\u001b[39;00m \u001b[38;5;167;01mValueError\u001b[39;00m(\n\u001b[0;32m    342\u001b[0m         \u001b[38;5;124m\"\u001b[39m\u001b[38;5;124mMulti-dimensional indexing (e.g. `obj[:, None]`) is no longer \u001b[39m\u001b[38;5;124m\"\u001b[39m\n\u001b[0;32m    343\u001b[0m         \u001b[38;5;124m\"\u001b[39m\u001b[38;5;124msupported. Convert to a numpy array before indexing instead.\u001b[39m\u001b[38;5;124m\"\u001b[39m\n\u001b[0;32m    344\u001b[0m     )\n",
      "\u001b[1;31mValueError\u001b[0m: Multi-dimensional indexing (e.g. `obj[:, None]`) is no longer supported. Convert to a numpy array before indexing instead."
     ]
    },
    {
     "data": {
      "image/png": "[encoded data removed]",
      "text/plain": [
       "<Figure size 720x360 with 1 Axes>"
      ]
     },
     "metadata": {
      "needs_background": "light"
     },
     "output_type": "display_data"
    }
   ],
   "source": [
    "#def plot(title, dates, worst_vals, mid_vals, best_vals, metric=\"Miss Count\", df_cleaned=df_cleaned):\n",
    "def plot(title, dates, scores, metric=\"Miss Count\", df_cleaned=df_cleaned):\n",
    "    \"\"\"\n",
    "    plt.figure(figsize=(10, 5))\n",
    "    plt.plot(dates, worst_vals, marker='o', label='Worst (Most Misses)')\n",
    "    plt.plot(dates, mid_vals, marker='o', label='Middle')\n",
    "    plt.plot(dates, best_vals, marker='o', label='Best (Fewest Misses)')\n",
    "    plt.title(title)\n",
    "    plt.xlabel('Date')\n",
    "    plt.ylabel('Miss Count')\n",
    "    plt.xticks(rotation=45)\n",
    "    plt.legend()\n",
    "    plt.tight_layout()\n",
    "    plt.show()\"\"\"\n",
    "\n",
    "    color_map = {'C+F': 'blue', 'Placebo': 'orange'}\n",
    "    group_colors = df_cleaned['C+F or Placebo'].map(color_map).tolist()\n",
    "\n",
    "\n",
    "    worst_vals, mid_vals, best_vals = list(zip(*[sorted(sublist) for sublist in scores]))\n",
    "    first_vals, second_vals, third_vals = list(zip(*scores))\n",
    "\n",
    "    all_vals = np.array([worst_vals, mid_vals, best_vals])\n",
    "    mean_vals = np.nanmean(all_vals, axis=0)\n",
    "    std_vals = np.nanstd(all_vals, axis=0)\n",
    "\n",
    "    # Plotting\n",
    "    plt.figure(figsize=(10, 5))\n",
    "\n",
    "    # Individual lines\n",
    "    plt.plot(dates, worst_vals, color='gray', linestyle='-', alpha=0.4)\n",
    "    plt.plot(dates, mid_vals, color='gray', linestyle='--', alpha=0.4)\n",
    "    plt.plot(dates, best_vals, color='gray', linestyle=':', alpha=0.4)\n",
    "\n",
    "    # Color-coded points\n",
    "    for i in range(len(df_cleaned)):\n",
    "        plt.scatter(dates.iloc[i], first_vals[i], color=group_colors[i], marker='o')\n",
    "        plt.scatter(dates.iloc[i], second_vals[i], color=group_colors[i], marker='^')\n",
    "        plt.scatter(dates.iloc[i], third_vals[i], color=group_colors[i], marker='s')\n",
    "\n",
    "    # Mean line\n",
    "    plt.plot(dates, mean_vals, color='black', linewidth=2, label='Mean')\n",
    "\n",
    "    # Fill between mean ± 3 std dev\n",
    "    plt.fill_between(dates, mean_vals - 3 * std_vals, mean_vals + 3 * std_vals, color='black', alpha=0.1, label='±3 Std Dev')\n",
    "\n",
    "    # Labels and title\n",
    "    plt.title(title)\n",
    "    plt.xlabel('Date')\n",
    "    plt.ylabel(metric)\n",
    "    plt.xticks(rotation=45)\n",
    "\n",
    "    # Custom legend\n",
    "    custom_lines = [\n",
    "        plt.Line2D([0], [0], marker='o', color='w', label='First', markerfacecolor='gray', markersize=8),\n",
    "        plt.Line2D([0], [0], marker='^', color='w', label='Second', markerfacecolor='gray', markersize=8),\n",
    "        plt.Line2D([0], [0], marker='s', color='w', label='Third', markerfacecolor='gray', markersize=8),\n",
    "        plt.Line2D([0], [0], marker='o', color='w', label='C+F', markerfacecolor='blue', markersize=8),\n",
    "        plt.Line2D([0], [0], marker='o', color='w', label='Placebo', markerfacecolor='orange', markersize=8),\n",
    "        plt.Line2D([0], [0], color='black', lw=2, label='Mean'),\n",
    "    ]\n",
    "    plt.legend(handles=custom_lines, loc='upper left', fancybox=True, framealpha=0.5)\n",
    "    plt.tight_layout()\n",
    "    plt.show()\n",
    " \n",
    "# aim \n",
    "for col in aim_columns:\n",
    "    #aim_scores = list(zip(*[sorted(sublist) for sublist in df_cleaned[col]]))\n",
    "    aim_scores = df_cleaned[col]\n",
    "    plot(\" (\".join(col.split(\" (\")[0:-1])+\" Miss Count\", df_cleaned['Date'], aim_scores)\n",
    "\n",
    "# stream\n",
    "d = df_cleaned.drop([0,1,3])\n",
    "for col in stream_columns:\n",
    "    for i,metric in enumerate(stream_metrics):\n",
    "        #stream_scores = list(zip(*[sorted([x[i] for x in eval(sublist)]) for sublist in d[col]]))\n",
    "        stream_scores = [[x[i] for x in eval(sublist)] for sublist in d[col]]\n",
    "        #if len(stream_scores) != 3:\n",
    "        #    stream_scores += [np.mean(stream_scores,axis=0)]\n",
    "        if len(list(zip(*stream_scores))) != 3:\n",
    "            stream_scores = list(zip(*(list(zip(*stream_scores)) + [np.mean(list(zip(*stream_scores)),axis=0).tolist()])))\n",
    "        plot(\" (\".join(col.split(\" (\")[0:-1])+\" \"+metric, d['Date'], stream_scores, metric=metric, df_cleaned=d)\n",
    "\n",
    "# speed \n",
    "for col in speed_columns:\n",
    "    #speed_scores = list(zip(*[sorted(sublist) for sublist in df_cleaned[col]]))\n",
    "    speed_scores = df_cleaned[col]\n",
    "    plot(\" (\".join(col.split(\" (\")[0:-1])+\" Miss Count\", df_cleaned['Date'], speed_scores)\n",
    "\n",
    "# marathon\n",
    "for col in marathon_columns:\n",
    "    marathon_scores = list(df_cleaned[col])\n",
    "    color_map = {'C+F': 'blue', 'Placebo': 'orange'}\n",
    "    group_colors = df_cleaned['C+F or Placebo'].map(color_map).tolist()\n",
    "    plt.figure(figsize=(10, 5))\n",
    "    plt.plot(df_cleaned['Date'], marathon_scores, color='black', linewidth=2)\n",
    "    for i in range(len(df_cleaned)):\n",
    "        plt.scatter(df_cleaned['Date'].iloc[i], marathon_scores[i], color=group_colors[i], marker='o')\n",
    "    plt.title(\" (\".join(col.split(\" (\")[0:-1])+\" Miss Count\")\n",
    "    plt.xlabel('Date')\n",
    "    plt.ylabel(\"Miss Count\")\n",
    "    plt.xticks(rotation=45)\n",
    "    plt.tight_layout()\n",
    "    plt.show()\n",
    "    "
   ]
  },
  {
   "cell_type": "markdown",
   "id": "2a71d9d6-227e-4869-a1ae-9d9a8e9a9711",
   "metadata": {},
   "source": [
    "# Check for Outliers\n",
    "(https://www.itl.nist.gov/div898/handbook/eda/section3/eda35h.htm)"
   ]
  },
  {
   "cell_type": "code",
   "execution_count": null,
   "id": "a8340ad9-87b9-427a-9665-e40ecc8d1d99",
   "metadata": {},
   "outputs": [],
   "source": [
    "def detect_outliers(data):\n",
    "    filtered = sp.outliers_gesd(data, report=False, alpha=0.1)\n",
    "    if len(filtered)==len(data):\n",
    "        print(\"no outliers\")\n",
    "    else:\n",
    "        print(\"outliers: \"+repr(set(filtered).symmetric_difference(set(data))))\n",
    "        #print(\"outlier index: \")\n",
    "    return filtered\n",
    "\n",
    "for col in aim_columns:\n",
    "    print(col)\n",
    "    data = [score for sublist in df_cleaned[col] for score in sublist]\n",
    "    detect_outliers(data)\n",
    "\n",
    "d = df_cleaned.drop([0,1,3])\n",
    "for col in stream_columns:\n",
    "    for i,metric in enumerate(stream_metrics):\n",
    "        print(col, metric)\n",
    "        data = [x[i] for sublist in d[col] for x in eval(sublist)]\n",
    "        detect_outliers(data)\n",
    "\n",
    "for col in speed_columns:\n",
    "    print(col)\n",
    "    data = [score for sublist in df_cleaned[col] for score in sublist]\n",
    "    detect_outliers(data)\n",
    "\n",
    "for col in marathon_columns:\n",
    "    print(col)\n",
    "    data = [score for score in df_cleaned[col]]\n",
    "    detect_outliers(data)"
   ]
  },
  {
   "cell_type": "markdown",
   "id": "2863d8fa-bcea-482c-8f8b-4c1aae75b0d8",
   "metadata": {},
   "source": [
    "## Normal Probability Plots"
   ]
  },
  {
   "cell_type": "markdown",
   "id": "495a31c3-b75a-4f40-9e7b-9d096a16ba5d",
   "metadata": {},
   "source": [
    "**generate a normal probability plot of each of the columns excluding day, date, C+F or Placebo, Guess**"
   ]
  },
  {
   "cell_type": "code",
   "execution_count": null,
   "id": "53e2d84b-891d-48d5-ac67-1a21d404faed",
   "metadata": {
    "scrolled": false
   },
   "outputs": [],
   "source": [
    "def graph(cols):\n",
    "    for col in cols:\n",
    "        plt.figure(figsize=(3, 2))\n",
    "        stats.probplot([score for sublist in df_cleaned[df_cleaned[\"C+F or Placebo\"] == \"Placebo\"][col] for score in sublist], dist=\"norm\", plot=plt)\n",
    "        plt.title(f'Normal Probability Plot for \"{\" \".join(col.split(\" \")[0:-1])}\" with Placebo')\n",
    "        plt.xlabel('Theoretical Quantiles')\n",
    "        plt.ylabel('Ordered Values')\n",
    "        plt.show()\n",
    "        \n",
    "        plt.figure(figsize=(3, 2))\n",
    "        stats.probplot([score for sublist in df_cleaned[df_cleaned[\"C+F or Placebo\"] == \"C+F\"][col] for score in sublist], dist=\"norm\", plot=plt)\n",
    "        plt.title(f'Normal Probability Plot for \"{\" \".join(col.split(\" \")[0:-1])}\" with C+F')\n",
    "        plt.xlabel('Theoretical Quantiles')\n",
    "        plt.ylabel('Ordered Values')\n",
    "        plt.show()\n",
    "\n",
    "# aim maps\n",
    "\"\"\"\n",
    "for col in aim_columns:\n",
    "    plt.figure(figsize=(3, 2))\n",
    "    stats.probplot([score for sublist in df_cleaned[df_cleaned[\"C+F or Placebo\"] == \"Placebo\"][col] for score in sublist], dist=\"norm\", plot=plt)\n",
    "    plt.title(f'Normal Probability Plot for \"{\" \".join(col.split(\" \")[0:-1])}\" with Placebo')\n",
    "    plt.xlabel('Theoretical Quantiles')\n",
    "    plt.ylabel('Ordered Values')\n",
    "    plt.show()\n",
    "    \n",
    "    plt.figure(figsize=(3, 2))\n",
    "    stats.probplot([score for sublist in df_cleaned[df_cleaned[\"C+F or Placebo\"] == \"C+F\"][col] for score in sublist], dist=\"norm\", plot=plt)\n",
    "    plt.title(f'Normal Probability Plot for \"{\" \".join(col.split(\" \")[0:-1])}\" with C+F')\n",
    "    plt.xlabel('Theoretical Quantiles')\n",
    "    plt.ylabel('Ordered Values')\n",
    "    plt.show()\"\"\"\n",
    "graph(aim_columns)\n",
    "    \n",
    "# stream maps\n",
    "for col in stream_columns:\n",
    "    \"\"\"\n",
    "    plt.title(f'Normal Probability Plot for \"{\" \".join(col.split(\" \")[0:-1])}\"')\n",
    "    fig, axes = plt.subplots(2,3, figsize=(3, 2))\n",
    "    for i,x in enumerate([\"misses\",\"accuracy\",\"unstable rate\"]):\n",
    "        ax = axes[i][0]\n",
    "        print([sublist[1:-1].split(\",\")[0] for sublist in df_cleaned[df_cleaned[\"C+F or Placebo\"] == \"Placebo\"][col]])\n",
    "        stats.probplot([sublist[1:-1].split(\",\")[0] for sublist in df_cleaned[df_cleaned[\"C+F or Placebo\"] == \"Placebo\"][col]], dist=\"norm\", plot=ax)\n",
    "        ax.title(f'Placebo {x}')\n",
    "        ax.xlabel('Theoretical Quantiles')\n",
    "        ax.ylabel('Ordered Values')\n",
    "        \n",
    "        ax = axes[i][1]\n",
    "        stats.probplot([sublist[1] for sublist in df_cleaned[df_cleaned[\"C+F or Placebo\"] == \"Placebo\"][col]], dist=\"norm\", plot=ax)\n",
    "        ax.title(f'C+F {x}')\n",
    "        ax.xlabel('Theoretical Quantiles')\n",
    "        ax.ylabel('Ordered Values')\n",
    "    plt.show()\"\"\"\n",
    "    for i,metric in enumerate(stream_metrics):\n",
    "        d = df_cleaned.drop([0,1,3])\n",
    "        plt.figure(figsize=(3, 2))\n",
    "        #print([score[i] for sublist in d[d[\"C+F or Placebo\"] == \"Placebo\"][col] for score in eval(sublist)])\n",
    "        stats.probplot([score[i] for sublist in d[d[\"C+F or Placebo\"] == \"Placebo\"][col] for score in eval(sublist)], dist=\"norm\", plot=plt)\n",
    "        plt.title(f'Normal Probability Plot for \"{\" \".join(col.split(\" \")[0:-1])}\" with Placebo ({metric})')\n",
    "        plt.xlabel('Theoretical Quantiles')\n",
    "        plt.ylabel('Ordered Values')\n",
    "        plt.show()\n",
    "        \n",
    "        plt.figure(figsize=(3, 2))\n",
    "        stats.probplot([score[i] for sublist in d[d[\"C+F or Placebo\"] == \"C+F\"][col] for score in eval(sublist)], dist=\"norm\", plot=plt)\n",
    "        plt.title(f'Normal Probability Plot for \"{\" \".join(col.split(\" \")[0:-1])}\" with C+F ({metric})')\n",
    "        plt.xlabel('Theoretical Quantiles')\n",
    "        plt.ylabel('Ordered Values')\n",
    "        plt.show()\n",
    "\n",
    "# speed maps\n",
    "graph(speed_columns)\n",
    "\n",
    "# marathon maps\n",
    "for col in marathon_columns:\n",
    "    plt.figure(figsize=(3, 2))\n",
    "    stats.probplot([score for score in df_cleaned[df_cleaned[\"C+F or Placebo\"] == \"Placebo\"][col]], dist=\"norm\", plot=plt)\n",
    "    plt.title(f'Normal Probability Plot for \"{\" \".join(col.split(\" \")[0:-1])}\" with Placebo')\n",
    "    plt.xlabel('Theoretical Quantiles')\n",
    "    plt.ylabel('Ordered Values')\n",
    "    plt.show()\n",
    "    \n",
    "    plt.figure(figsize=(3, 2))\n",
    "    stats.probplot([score for score in df_cleaned[df_cleaned[\"C+F or Placebo\"] == \"C+F\"][col]], dist=\"norm\", plot=plt)\n",
    "    plt.title(f'Normal Probability Plot for \"{\" \".join(col.split(\" \")[0:-1])}\" with C+F')\n",
    "    plt.xlabel('Theoretical Quantiles')\n",
    "    plt.ylabel('Ordered Values')\n",
    "    plt.show()"
   ]
  },
  {
   "cell_type": "markdown",
   "id": "2487f36f-4e8b-4529-8518-3ae7182ac952",
   "metadata": {},
   "source": [
    "some of the graphs show somewhat non-linear behaviour. however, the graphs all have a reasonably positive correlation, which suggests that the random variables are approximately normally distributed.\n"
   ]
  },
  {
   "cell_type": "markdown",
   "id": "021ef9db-4597-4b14-ae10-ce3a2d375dff",
   "metadata": {},
   "source": [
    "## Detecting Outliers"
   ]
  },
  {
   "cell_type": "markdown",
   "id": "6553dca1-3519-42ea-a103-90f34290305f",
   "metadata": {},
   "source": [
    "Using the standard"
   ]
  },
  {
   "cell_type": "markdown",
   "id": "8df3fc6c-0eb6-4b8e-8dac-779358cd030d",
   "metadata": {},
   "source": [
    "# Hypothesis Tests"
   ]
  },
  {
   "cell_type": "markdown",
   "id": "e4668c18-67d5-4314-9aa2-ab45f65dd600",
   "metadata": {},
   "source": [
    "## Guesses Column"
   ]
  },
  {
   "cell_type": "markdown",
   "id": "4f1c4a1f-d64e-4344-aeee-dce43f672e3a",
   "metadata": {},
   "source": [
    "\"\"\"perform a hypothesis test to determine whether the \"Guess\" column has significant correlation with the \"C+F or Placebo\" column. ignore the rows with \"Known\" values\"\"\"\n",
    "\n",
    "H0: C+F is indistinguishable from Placebo (uniform distribution is a fitting model)\n",
    "H1: C+F is distinguishable from Placebo (uniform distribution is not a fitting model)"
   ]
  },
  {
   "cell_type": "code",
   "execution_count": null,
   "id": "2da8a9e9-b49f-4808-93e6-28417efd3564",
   "metadata": {
    "scrolled": true
   },
   "outputs": [],
   "source": [
    "from scipy.stats import chi2_contingency\n",
    "\n",
    "# Filter out rows where \"Guess\" is \"Known\"\n",
    "df_filtered = df_cleaned[(df_cleaned[\"Guess\"] != \"Known\") & (df_cleaned[\"C+F or Placebo\"] != \"Known\")]\n",
    "\n",
    "# Create a contingency table\n",
    "contingency_table = pd.crosstab(df_filtered[\"Guess\"], df_filtered[\"C+F or Placebo\"])\n",
    "\n",
    "# Perform the chi-square test for independence\n",
    "chi2_stat, p_value, dof, expected = chi2_contingency(contingency_table)\n",
    "\n",
    "# Display results\n",
    "#print(chi2_stat, p_value)\n",
    "\n",
    "print(f\"p={p_value:.3g}\")\n",
    "if p_value < 0.1:\n",
    "    print(\"p < 0.1 so the test is significant at the 10% level and there is sufficient evidence to reject H0.\")\n",
    "    print(\"Therefore, there is sufficient evidence to say that the subject can distinguish C+F from Placebo.\")\n",
    "else:\n",
    "    print(\"p > 0.1 so the test is insignificant at the 10% level and there is insufficient evidence to reject H0.\")\n",
    "    print(\"Therefore, there is insufficient evidence to say that the subject can distinguish C+F from Placebo.\")"
   ]
  },
  {
   "cell_type": "markdown",
   "id": "ba4c310b-5904-4268-8943-b53816c43050",
   "metadata": {},
   "source": [
    "## Aim Maps"
   ]
  },
  {
   "cell_type": "markdown",
   "id": "448157a8-8eb0-4e44-92a8-1d984456e9ae",
   "metadata": {},
   "source": [
    "**for each of the three columns with \"(aim)\" in their name, perform appropriate hypothesis tests at the 10% significance level to determine whether or not they are influenced by the \"C+F or Placebo\" column**"
   ]
  },
  {
   "cell_type": "code",
   "execution_count": null,
   "id": "372d350c-e371-4477-a5e3-0c88e83823f5",
   "metadata": {},
   "outputs": [],
   "source": [
    "from scipy.stats import ttest_ind\n",
    "\n",
    "# Perform t-tests for each \"(aim)\" column\n",
    "results = {}\n",
    "alpha = 0.10  # 10% significance level\n",
    "\n",
    "for col in aim_columns:\n",
    "    # Split data into two groups: C+F and Placebo\n",
    "    c_f_values = [score for sublist in df_cleaned[df_cleaned[\"C+F or Placebo\"] == \"C+F\"][col] for score in sublist]\n",
    "    placebo_values = [score for sublist in df_cleaned[df_cleaned[\"C+F or Placebo\"] == \"Placebo\"][col] for score in sublist]\n",
    "\n",
    "    # Perform independent t-test\n",
    "    t_stat, p_value = ttest_ind(c_f_values, placebo_values, equal_var=False)\n",
    "\n",
    "    # Store results\n",
    "    results[col] = {\"t-statistic\": t_stat, \"p-value\": p_value, \"Significant\": p_value < alpha}\n",
    "\n",
    "results_df = pd.DataFrame(results).T\n",
    "\n",
    "\n",
    "\n",
    "print(results_df)"
   ]
  },
  {
   "cell_type": "markdown",
   "id": "a013b623-09d0-4317-9906-60c3d2eaf88f",
   "metadata": {},
   "source": [
    "All entries are False. Therefore there is no evidence here to suggest that C+F has any benefits to placebo."
   ]
  },
  {
   "cell_type": "markdown",
   "id": "2fd77043-ca6d-49ec-95e4-5358eb0c5cb0",
   "metadata": {},
   "source": [
    "## Speed Maps"
   ]
  },
  {
   "cell_type": "markdown",
   "id": "f5ecf997-a27e-4fcd-b69a-0a68edbb2a30",
   "metadata": {},
   "source": [
    "**perform the same tests for the (speed) columns (same format)**"
   ]
  },
  {
   "cell_type": "code",
   "execution_count": null,
   "id": "80755827-1641-4934-928c-7edcf12f2ab3",
   "metadata": {},
   "outputs": [],
   "source": [
    "from scipy.stats import ttest_ind\n",
    "\n",
    "# Perform t-tests for each \"(aim)\" column\n",
    "results = {}\n",
    "alpha = 0.10  # 10% significance level\n",
    "\n",
    "for col in speed_columns:\n",
    "    # Split data into two groups: C+F and Placebo\n",
    "    c_f_values = [score for sublist in df_cleaned[df_cleaned[\"C+F or Placebo\"] == \"C+F\"][col] for score in sublist]\n",
    "    placebo_values = [score for sublist in df_cleaned[df_cleaned[\"C+F or Placebo\"] == \"Placebo\"][col] for score in sublist]\n",
    "\n",
    "    # Perform independent t-test\n",
    "    t_stat, p_value = ttest_ind(c_f_values, placebo_values, equal_var=False)\n",
    "\n",
    "    # Store results\n",
    "    results[col] = {\"t-statistic\": t_stat, \"p-value\": p_value, \"Significant\": p_value < alpha}\n",
    "\n",
    "results_df = pd.DataFrame(results).T\n",
    "\n",
    "\n",
    "\n",
    "print(results_df)"
   ]
  },
  {
   "cell_type": "markdown",
   "id": "b7dc7240-3ce2-4e49-937a-9faf5f311d34",
   "metadata": {},
   "source": [
    "The test produces significant evidence for improvement from C+F in two of the three speed maps. The excluded map was the easiest of the three."
   ]
  },
  {
   "cell_type": "markdown",
   "id": "46465f1f-2656-426e-8f60-a73444af9c04",
   "metadata": {},
   "source": [
    "## Stream Maps"
   ]
  },
  {
   "cell_type": "code",
   "execution_count": null,
   "id": "aa932798-96e8-4b11-909a-03a21346fc46",
   "metadata": {},
   "outputs": [],
   "source": [
    "from scipy.stats import ttest_ind\n",
    "\n",
    "# Perform t-tests for each \"(aim)\" column\n",
    "results = {}\n",
    "alpha = 0.10  # 10% significance level\n",
    "d = df_cleaned.drop([0,1,3])\n",
    "# correct for os-uchuujin outlier\n",
    "#d = df_cleaned.drop([0,1,3,8])\n",
    "\n",
    "for col in stream_columns:\n",
    "    for i,x in enumerate(stream_metrics):\n",
    "        # Split data into two groups: C+F and Placebo\n",
    "        c_f_values = [float(score[i]) for sublist in d[d[\"C+F or Placebo\"] == \"C+F\"][col] for score in eval(sublist)]\n",
    "        placebo_values = [float(score[i]) for sublist in d[d[\"C+F or Placebo\"] == \"Placebo\"][col] for score in eval(sublist)]\n",
    "    \n",
    "        #print(c_f_values)\n",
    "    \n",
    "        # Perform independent t-test\n",
    "        t_stat, p_value = ttest_ind(c_f_values, placebo_values, equal_var=False)\n",
    "    \n",
    "        # Store results\n",
    "        results[col,x] = {\"t-statistic\": t_stat, \"p-value\": p_value, \"Significant\": p_value < alpha}\n",
    "\n",
    "results_df = pd.DataFrame(results).T\n",
    "\n",
    "print(results_df)"
   ]
  },
  {
   "cell_type": "markdown",
   "id": "3eca8a0d-b17f-4694-afb2-0702e3a5ae74",
   "metadata": {},
   "source": [
    "the test yields significant results for:\n",
    "\n",
    "-choir jail (accuracy)\n",
    "\n",
    "-os-uchuujin (unstable rate)\n",
    "\n",
    "-the deceit (unstable rate)\n",
    "\n",
    "9 tests are performed, p(Bin(9, 0.1) >= 3) = 0.0530 < 0.1\n",
    "\n",
    "this suggests that C+F helps lower unstable rate for higher bpm and more difficult stream maps, and might help increase accuracy for consistency stream maps."
   ]
  },
  {
   "cell_type": "markdown",
   "id": "9a20dd87-e77c-4ecf-920b-ad3ab31a7023",
   "metadata": {},
   "source": [
    "in total, 16 tests are performed and 6 significant results were obtained, and p(Bin(16, 0.1) >= 6) = 0.00330, which rudimentarily suggests that this study has not fallen victim to a fallacy of multiple comparisons. "
   ]
  },
  {
   "cell_type": "markdown",
   "id": "49948370-1659-43c9-83f1-8280aefdbac5",
   "metadata": {},
   "source": [
    "## Marathon Maps"
   ]
  },
  {
   "cell_type": "code",
   "execution_count": null,
   "id": "c4de7428-3880-44ae-9da8-9f816aae261e",
   "metadata": {},
   "outputs": [],
   "source": [
    "from scipy.stats import ttest_ind\n",
    "\n",
    "# Perform t-tests for each \"(aim)\" column\n",
    "results = {}\n",
    "alpha = 0.10  # 10% significance level\n",
    "#d = df_cleaned.drop([0,1,3,4])\n",
    "d = df_cleaned.copy()\n",
    "for col in marathon_columns:\n",
    "    # Split data into two groups: C+F and Placebo\n",
    "    c_f_values = [score for score in d[d[\"C+F or Placebo\"] == \"C+F\"][col]]\n",
    "    placebo_values = [score for score in d[d[\"C+F or Placebo\"] == \"Placebo\"][col]]\n",
    "\n",
    "    # Perform independent t-test\n",
    "    t_stat, p_value = ttest_ind(c_f_values, placebo_values, equal_var=False)\n",
    "\n",
    "    # Store results\n",
    "    results[col] = {\"t-statistic\": t_stat, \"p-value\": p_value, \"Significant\": p_value < alpha}\n",
    "\n",
    "results_df = pd.DataFrame(results).T\n",
    "\n",
    "\n",
    "\n",
    "print(results_df)"
   ]
  },
  {
   "cell_type": "code",
   "execution_count": null,
   "id": "39a010b4-0c21-442d-af7b-60deb765e07c",
   "metadata": {},
   "outputs": [],
   "source": []
  }
 ],
 "metadata": {
  "kernelspec": {
   "display_name": "Python 3 (ipykernel)",
   "language": "python",
   "name": "python3"
  },
  "language_info": {
   "codemirror_mode": {
    "name": "ipython",
    "version": 3
   },
   "file_extension": ".py",
   "mimetype": "text/x-python",
   "name": "python",
   "nbconvert_exporter": "python",
   "pygments_lexer": "ipython3",
   "version": "3.10.2"
  }
 },
 "nbformat": 4,
 "nbformat_minor": 5
}
